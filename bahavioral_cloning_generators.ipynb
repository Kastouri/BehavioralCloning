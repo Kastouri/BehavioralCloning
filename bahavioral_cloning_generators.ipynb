{
 "cells": [
  {
   "cell_type": "markdown",
   "metadata": {},
   "source": [
    "# Behavioral Cloning Project Using Generators"
   ]
  },
  {
   "cell_type": "markdown",
   "metadata": {},
   "source": [
    "## Read CSV File"
   ]
  },
  {
   "cell_type": "code",
   "execution_count": 1,
   "metadata": {},
   "outputs": [],
   "source": [
    "import os\n",
    "import csv\n",
    "\n",
    "samples = []\n",
    "with open('./recording16_11/driving_log.csv') as csvfile:\n",
    "    reader = csv.reader(csvfile)\n",
    "    for line in reader:\n",
    "        samples.append(line)"
   ]
  },
  {
   "cell_type": "markdown",
   "metadata": {},
   "source": [
    "## Train, Validation   Split "
   ]
  },
  {
   "cell_type": "code",
   "execution_count": 2,
   "metadata": {},
   "outputs": [],
   "source": [
    "from sklearn.model_selection import train_test_split\n",
    "\n",
    "train_samples, validation_samples = train_test_split(samples, test_size=0.2)"
   ]
  },
  {
   "cell_type": "markdown",
   "metadata": {},
   "source": [
    "## Train and Validation Generators"
   ]
  },
  {
   "cell_type": "code",
   "execution_count": 3,
   "metadata": {},
   "outputs": [],
   "source": [
    "import cv2\n",
    "import sklearn\n",
    "\n",
    "def generator(samples, batch_size=32, flip_center=True, side_cams=True , correction=1):\n",
    "    num_samples = len(samples)\n",
    "    while 1:\n",
    "        sklearn.utils.shuffle(samples)\n",
    "        for offset in range(0, num_samples, batch_size):\n",
    "            batch_samples = samples[offset:offset+batch_size]\n",
    "            images = []\n",
    "            angles = []\n",
    "            for batch_sample in batch_samples:\n",
    "                name = batch_sample[0]\n",
    "                center_image = cv2.imread(name)\n",
    "                center_angle = float(batch_sample[3])\n",
    "                images.append(center_image)\n",
    "                angles.append(center_angle)\n",
    "                if flip_center:\n",
    "                    flip_center_image = cv2.flip(center_image, 1)\n",
    "                    flip_center_angle = -1 * center_angle\n",
    "                    images.append(flip_center_image)\n",
    "                    angles.append(flip_center_angle)\n",
    "                if side_cams:\n",
    "                    name = batch_sample[1]\n",
    "                    left_image = cv2.imread(name)\n",
    "                    left_angle = float(batch_sample[3])\n",
    "                    images.append(left_image)\n",
    "                    angles.append(left_angle + correction)\n",
    "                    name = batch_sample[2]\n",
    "                    right_image = cv2.imread(name)\n",
    "                    right_angle = float(batch_sample[3])\n",
    "                    images.append(right_image)\n",
    "                    angles.append(right_angle - correction)\n",
    "\n",
    "                # trim image to only see section with road\n",
    "                X_train = np.array(images)\n",
    "                y_train = np.array(angles)\n",
    "                X_train, y_train = sklearn.utils.shuffle(X_train, y_train)\n",
    "                #print(\"size of generator output:\", y_train.size)\n",
    "                yield X_train, y_train\n"
   ]
  },
  {
   "cell_type": "code",
   "execution_count": 4,
   "metadata": {},
   "outputs": [],
   "source": [
    "# Set batch size\n",
    "batch_size= 128"
   ]
  },
  {
   "cell_type": "code",
   "execution_count": 5,
   "metadata": {},
   "outputs": [],
   "source": [
    "# compile and train the model using the generator function\n",
    "train_generator = generator(train_samples, batch_size=batch_size)\n",
    "validation_generator = generator(validation_samples, batch_size=batch_size)"
   ]
  },
  {
   "cell_type": "code",
   "execution_count": 7,
   "metadata": {},
   "outputs": [],
   "source": [
    "import multiprocessing\n",
    "from keras.models import Sequential\n",
    "from keras.layers import Flatten, Dense, Lambda\n",
    "from keras.layers import Convolution2D, Cropping2D, Dropout\n",
    "from keras.layers.pooling import MaxPooling2D\n",
    "import numpy as np\n",
    "import math"
   ]
  },
  {
   "cell_type": "code",
   "execution_count": 8,
   "metadata": {},
   "outputs": [],
   "source": [
    "def train_model():\n",
    "    model = Sequential()\n",
    "    \n",
    "    # crop top and bottom\n",
    "    model.add(Cropping2D(cropping=((50,20), (0,0)), input_shape=(160,320,3)))\n",
    "    \n",
    "    # normalize data\n",
    "    model.add(Lambda(lambda x: x / 255 - 0.5, input_shape=(160,320,3)))\n",
    "    \n",
    "    # 1. convolution layer\n",
    "    model.add(Convolution2D(24, 5,  activation='relu'))\n",
    "    model.add(MaxPooling2D())\n",
    "    model.add(Dropout(0.7))\n",
    "    \n",
    "    # 2. convolution layer\n",
    "    model.add(Convolution2D(36, 5, activation='relu'))\n",
    "    model.add(MaxPooling2D())\n",
    "    model.add(Dropout(0.5))\n",
    "    \n",
    "    # 3. convolution layer\n",
    "    model.add(Convolution2D(48, 5, activation='relu'))\n",
    "    model.add(MaxPooling2D())\n",
    "    model.add(Dropout(0.3))\n",
    "    \n",
    "    # 4. convolution layer\n",
    "    model.add(Convolution2D(64, 3, activation='relu'))\n",
    "    model.add(MaxPooling2D())\n",
    "    model.add(Dropout(0.2))\n",
    "    \n",
    "    model.add(Flatten())\n",
    "    model.add(Dense(120))\n",
    "    model.add(Dense(84))\n",
    "    model.add(Dense(1))\n",
    "    model.compile(loss='mse', optimizer='adam')\n",
    "    history_object = model.fit(train_generator, \n",
    "                        steps_per_epoch=math.ceil(len(train_samples)/batch_size), \n",
    "                        validation_data=validation_generator, \n",
    "                        validation_steps=math.ceil(len(validation_samples)/batch_size), \n",
    "                        epochs=5, verbose=1,  workers=6, use_multiprocessing=True ) # \n",
    "    model.save('model_with_generators_v1.h5')\n",
    "    return history_object"
   ]
  },
  {
   "cell_type": "markdown",
   "metadata": {},
   "source": [
    "## Train and Plot Accuracies"
   ]
  },
  {
   "cell_type": "code",
   "execution_count": 9,
   "metadata": {},
   "outputs": [
    {
     "name": "stdout",
     "output_type": "stream",
     "text": [
      "WARNING:tensorflow:Using a generator with `use_multiprocessing=True` and multiple workers may duplicate your data. Please consider using the `tf.data.Dataset`.\n",
      "Epoch 1/5\n",
      "WARNING:tensorflow:multiprocessing can interact badly with TensorFlow, causing nondeterministic deadlocks. For high performance data pipelines tf.data is recommended.\n",
      "26/26 [==============================] - ETA: 0s - loss: 1.0891WARNING:tensorflow:Using a generator with `use_multiprocessing=True` and multiple workers may duplicate your data. Please consider using the `tf.data.Dataset`.\n",
      "WARNING:tensorflow:multiprocessing can interact badly with TensorFlow, causing nondeterministic deadlocks. For high performance data pipelines tf.data is recommended.\n",
      "26/26 [==============================] - 5s 186ms/step - loss: 1.0891 - val_loss: 0.5021\n",
      "Epoch 2/5\n",
      "26/26 [==============================] - ETA: 0s - loss: 0.5003WARNING:tensorflow:Using a generator with `use_multiprocessing=True` and multiple workers may duplicate your data. Please consider using the `tf.data.Dataset`.\n",
      "WARNING:tensorflow:multiprocessing can interact badly with TensorFlow, causing nondeterministic deadlocks. For high performance data pipelines tf.data is recommended.\n",
      "26/26 [==============================] - 8s 317ms/step - loss: 0.5003 - val_loss: 0.5023\n",
      "Epoch 3/5\n",
      "26/26 [==============================] - ETA: 0s - loss: 0.4914WARNING:tensorflow:Using a generator with `use_multiprocessing=True` and multiple workers may duplicate your data. Please consider using the `tf.data.Dataset`.\n",
      "WARNING:tensorflow:multiprocessing can interact badly with TensorFlow, causing nondeterministic deadlocks. For high performance data pipelines tf.data is recommended.\n",
      "26/26 [==============================] - 12s 458ms/step - loss: 0.4914 - val_loss: 0.4969\n",
      "Epoch 4/5\n",
      "26/26 [==============================] - ETA: 0s - loss: 0.4094WARNING:tensorflow:Using a generator with `use_multiprocessing=True` and multiple workers may duplicate your data. Please consider using the `tf.data.Dataset`.\n",
      "WARNING:tensorflow:multiprocessing can interact badly with TensorFlow, causing nondeterministic deadlocks. For high performance data pipelines tf.data is recommended.\n",
      "26/26 [==============================] - 16s 619ms/step - loss: 0.4094 - val_loss: 0.4682\n",
      "Epoch 5/5\n",
      "26/26 [==============================] - ETA: 0s - loss: 0.3124WARNING:tensorflow:Using a generator with `use_multiprocessing=True` and multiple workers may duplicate your data. Please consider using the `tf.data.Dataset`.\n",
      "WARNING:tensorflow:multiprocessing can interact badly with TensorFlow, causing nondeterministic deadlocks. For high performance data pipelines tf.data is recommended.\n",
      "26/26 [==============================] - 19s 736ms/step - loss: 0.3124 - val_loss: 0.4560\n"
     ]
    }
   ],
   "source": [
    "# train and save history\n",
    "history_object= train_model()"
   ]
  },
  {
   "cell_type": "code",
   "execution_count": 10,
   "metadata": {},
   "outputs": [
    {
     "name": "stdout",
     "output_type": "stream",
     "text": [
      "dict_keys(['loss', 'val_loss'])\n"
     ]
    },
    {
     "data": {
      "image/png": "[encoded data removed]",
      "text/plain": [
       "<Figure size 432x288 with 1 Axes>"
      ]
     },
     "metadata": {
      "needs_background": "light"
     },
     "output_type": "display_data"
    }
   ],
   "source": [
    "### print the keys contained in the history object\n",
    "print(history_object.history.keys())\n",
    "\n",
    "### plot the training and validation loss for each epoch\n",
    "import matplotlib.pyplot as plt\n",
    "plt.plot(history_object.history['loss'])\n",
    "plt.plot(history_object.history['val_loss'])\n",
    "plt.title('model mean squared error loss')\n",
    "plt.ylabel('mean squared error loss')\n",
    "plt.xlabel('epoch')\n",
    "plt.legend(['training set', 'validation set'], loc='upper right')\n",
    "plt.show()"
   ]
  },
  {
   "cell_type": "code",
   "execution_count": null,
   "metadata": {
    "scrolled": false
   },
   "outputs": [],
   "source": [
    "    \n",
    "p = multiprocessing.Process(target=train_model)\n",
    "p.start()\n",
    "p.join()"
   ]
  },
  {
   "cell_type": "code",
   "execution_count": null,
   "metadata": {},
   "outputs": [],
   "source": []
  }
 ],
 "metadata": {
  "kernelspec": {
   "display_name": "Python 3",
   "language": "python",
   "name": "python3"
  },
  "language_info": {
   "codemirror_mode": {
    "name": "ipython",
    "version": 3
   },
   "file_extension": ".py",
   "mimetype": "text/x-python",
   "name": "python",
   "nbconvert_exporter": "python",
   "pygments_lexer": "ipython3",
   "version": "3.6.11"
  }
 },
 "nbformat": 4,
 "nbformat_minor": 4
}
