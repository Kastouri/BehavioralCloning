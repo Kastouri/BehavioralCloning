{
 "cells": [
  {
   "cell_type": "markdown",
   "metadata": {},
   "source": [
    "# Behavioral Cloning Project Using Generators"
   ]
  },
  {
   "cell_type": "markdown",
   "metadata": {},
   "source": [
    "## Read CSV File"
   ]
  },
  {
   "cell_type": "code",
   "execution_count": 2,
   "metadata": {},
   "outputs": [],
   "source": [
    "import os\n",
    "import csv\n",
    "\n",
    "def read_data(csv_paths_array):\n",
    "    samples = []\n",
    "    for i in range(len(csv_paths_array)):\n",
    "        with open(csv_paths_array[i],'r') as csv_file:\n",
    "            reader = csv.reader(csv_file)\n",
    "            for line in reader:\n",
    "                samples.append(line)\n",
    "    return samples"
   ]
  },
  {
   "cell_type": "code",
   "execution_count": 3,
   "metadata": {},
   "outputs": [],
   "source": [
    "import sklearn\n",
    "\n",
    "samples = read_data(['./recordings/k_1_lap_1/driving_log.csv',\n",
    "                     './recordings/k_1_lap_2/driving_log.csv',\n",
    "                     './recordings/k_1_lap_3/driving_log.csv',\n",
    "                     './recordings/k_counterclock_1/driving_log.csv',\n",
    "                     './recordings/charp_turns/driving_log.csv', \n",
    "                     './recordings/k_recovering/driving_log.csv',\n",
    "                     './recordings/m_sharp_turns/driving_log.csv',\n",
    "                     './recordings/m_3_laps_counter/driving_log.csv',\n",
    "                     './recordings/m_3_laps/driving_log.csv',\n",
    "                     './recordings/normal_3_laps/driving_log.csv', \n",
    "                     './recordings/1_lap_with_mouse_1/driving_log.csv',\n",
    "                     './recordings/1_lap_with_mouse_2/driving_log.csv',\n",
    "                     './recordings/1_lap_with_mouse_3/driving_log.csv',\n",
    "                     './recordings/1_recovering_with_mouse/driving_log.csv',\n",
    "                     './recordings/1_sharp_turns_with_mouse_1/driving_log.csv',\n",
    "                    \n",
    "                    ])\n",
    "samples= sklearn.utils.shuffle(samples)"
   ]
  },
  {
   "cell_type": "code",
   "execution_count": 4,
   "metadata": {},
   "outputs": [
    {
     "data": {
      "text/plain": [
       "29540"
      ]
     },
     "execution_count": 4,
     "metadata": {},
     "output_type": "execute_result"
    }
   ],
   "source": [
    "len(samples)"
   ]
  },
  {
   "cell_type": "markdown",
   "metadata": {},
   "source": [
    "## Train, Validation   Split "
   ]
  },
  {
   "cell_type": "code",
   "execution_count": 5,
   "metadata": {},
   "outputs": [],
   "source": [
    "from sklearn.model_selection import train_test_split\n",
    "import sklearn\n",
    "\n",
    "sklearn.utils.shuffle(samples)\n",
    "\n",
    "train_samples, validation_samples = train_test_split(samples, test_size=0.2)"
   ]
  },
  {
   "cell_type": "markdown",
   "metadata": {},
   "source": [
    "## Train and Validation Generators"
   ]
  },
  {
   "cell_type": "code",
   "execution_count": 6,
   "metadata": {},
   "outputs": [],
   "source": [
    "import cv2\n",
    "import sklearn\n",
    "\n",
    "def generator(samples, batch_size=32, flip_center=True, side_cams=True , correction=0.5):\n",
    "    num_samples = len(samples)\n",
    "    while 1:\n",
    "        sklearn.utils.shuffle(samples)\n",
    "        for offset in range(0, num_samples, batch_size):\n",
    "            batch_samples = samples[offset:offset+batch_size]\n",
    "            images = []\n",
    "            angles = []\n",
    "            for batch_sample in batch_samples:\n",
    "                name = batch_sample[0]\n",
    "                center_image = cv2.imread(name)\n",
    "                center_angle = float(batch_sample[3])\n",
    "                images.append(center_image)\n",
    "                angles.append(center_angle)\n",
    "                if flip_center:\n",
    "                    flip_center_image = cv2.flip(center_image, 1)\n",
    "                    flip_center_angle = -1 * center_angle\n",
    "                    images.append(flip_center_image)\n",
    "                    angles.append(flip_center_angle)\n",
    "                if side_cams:\n",
    "                    name = batch_sample[1]\n",
    "                    left_image = cv2.imread(name)\n",
    "                    left_angle = float(batch_sample[3])\n",
    "                    images.append(left_image)\n",
    "                    angles.append(left_angle + correction)\n",
    "                    name = batch_sample[2]\n",
    "                    right_image = cv2.imread(name)\n",
    "                    right_angle = float(batch_sample[3])\n",
    "                    images.append(right_image)\n",
    "                    angles.append(right_angle - correction)\n",
    "            #images_resized = []\n",
    "            #for image in images:\n",
    "            #    images_resized.append(resize(image, resize_dim))\n",
    "            X_batch = np.array(images)\n",
    "            y_batch = np.array(angles)\n",
    "            X_batch, y_batch = sklearn.utils.shuffle(X_batch, y_batch)\n",
    "            #assert len(X_batch) == batch_size, 'len(X_batch) == batch_size should be True'\n",
    "            yield X_batch, y_batch\n"
   ]
  },
  {
   "cell_type": "code",
   "execution_count": 7,
   "metadata": {},
   "outputs": [],
   "source": [
    "# Set batch size\n",
    "batch_size= 8\n",
    "batch_size_validation= 8"
   ]
  },
  {
   "cell_type": "code",
   "execution_count": 8,
   "metadata": {},
   "outputs": [],
   "source": [
    "# compile and train the model using the generator function\n",
    "train_generator = generator(train_samples, batch_size=batch_size, flip_center=True, side_cams=True )\n",
    "validation_generator = generator(validation_samples, batch_size=batch_size_validation,flip_center=False, side_cams=False )"
   ]
  },
  {
   "cell_type": "code",
   "execution_count": 10,
   "metadata": {},
   "outputs": [],
   "source": [
    "from keras.models import Sequential\n",
    "from keras.layers import Flatten, Dense, Lambda, ReLU\n",
    "from keras.layers import Convolution2D, Cropping2D, Dropout\n",
    "from keras.layers.pooling import MaxPooling2D\n",
    "from tensorflow.keras.layers import BatchNormalization\n",
    "\n",
    "import numpy as np\n",
    "import math"
   ]
  },
  {
   "cell_type": "code",
   "execution_count": 11,
   "metadata": {},
   "outputs": [],
   "source": [
    "from keras.optimizers import Adam\n",
    "def train_model(dropout=0.25):\n",
    "    model = Sequential()\n",
    "    \n",
    "    # crop top and bottom\n",
    "    model.add(Cropping2D(cropping=((70,25), (0,0)), input_shape=(160,320,3)))\n",
    "    # normalize data\n",
    "    model.add(Lambda(lambda x: x / 255 - 0.5)) #, input_shape=(160,320,3)\n",
    "    #model.add(BatchNormalization())\n",
    "    \n",
    "    # 1. convolution layer\n",
    "    model.add(Convolution2D(24, 5, padding='valid'))\n",
    "    #model.add(BatchNormalization())\n",
    "    model.add(ReLU())\n",
    "    model.add(MaxPooling2D())\n",
    "    \n",
    "    model.add(Dropout(dropout))\n",
    "\n",
    "    # 2. convolution layer\n",
    "    model.add(Convolution2D(36, 5, padding='valid'))\n",
    "    #model.add(BatchNormalization())\n",
    "    model.add(ReLU())\n",
    "    model.add(MaxPooling2D())\n",
    "    model.add(Dropout(dropout))\n",
    "\n",
    "    # 3. convolution layer\n",
    "    model.add(Convolution2D(48, 3, padding='valid'))\n",
    "    #model.add(BatchNormalization())\n",
    "    model.add(ReLU())\n",
    "    #model.add(MaxPooling2D())\n",
    "    model.add(Dropout(dropout))\n",
    "\n",
    "    # 4. convolution layer\n",
    "    model.add(Convolution2D(64, 3, padding='valid'))\n",
    "    #model.add(BatchNormalization())\n",
    "    model.add(ReLU())\n",
    "    #model.add(MaxPooling2D())\n",
    "    model.add(Dropout(dropout))\n",
    "    \n",
    "    # 5. convolution layer\n",
    "    model.add(Convolution2D(64, 3, padding='valid'))\n",
    "    #model.add(BatchNormalization())\n",
    "    model.add(ReLU())\n",
    "    #model.add(MaxPooling2D())\n",
    "    model.add(Dropout(dropout))\n",
    "    \n",
    "    model.add(Flatten())\n",
    "    model.add(Dense(100))\n",
    "    #model.add(BatchNormalization())\n",
    "    model.add(ReLU())\n",
    "    model.add(Dropout(dropout))\n",
    "    model.add(Dense(50))\n",
    "    #model.add(BatchNormalization())\n",
    "    model.add(ReLU())\n",
    "    #model.add(Dropout(dropout))\n",
    "    model.add(Dense(10))\n",
    "    model.add(ReLU())\n",
    "    #model.add(Dropout(0.2))\n",
    "    model.add(Dense(1))\n",
    "    #model.summary()\n",
    "    optimizer = Adam(lr=0.001)\n",
    "    model.compile(loss='mse', optimizer=optimizer)\n",
    "\n",
    "    history_object = model.fit(train_generator, \n",
    "                        steps_per_epoch=math.ceil(len(train_samples)/(4 * batch_size)), \n",
    "                        validation_data=validation_generator, \n",
    "                        validation_steps=math.ceil(len(validation_samples)/batch_size), \n",
    "                        epochs=3, verbose=1 ) #, use_multiprocessing=True, workers=4\n",
    "  \n",
    "    return model, history_object"
   ]
  },
  {
   "cell_type": "markdown",
   "metadata": {},
   "source": [
    "## Train and Plot Accuracies"
   ]
  },
  {
   "cell_type": "code",
   "execution_count": 12,
   "metadata": {
    "scrolled": true
   },
   "outputs": [
    {
     "name": "stdout",
     "output_type": "stream",
     "text": [
      "Epoch 1/3\n",
      "739/739 [==============================] - 93s 126ms/step - loss: 0.0832 - val_loss: 0.0494\n",
      "Epoch 2/3\n",
      "739/739 [==============================] - 93s 126ms/step - loss: 0.0711 - val_loss: 0.0590\n",
      "Epoch 3/3\n",
      "739/739 [==============================] - 99s 133ms/step - loss: 0.0693 - val_loss: 0.0514\n"
     ]
    }
   ],
   "source": [
    "# train and save history\n",
    "model, history_object= train_model()"
   ]
  },
  {
   "cell_type": "code",
   "execution_count": 13,
   "metadata": {
    "scrolled": true
   },
   "outputs": [],
   "source": [
    "# save model\n",
    "model.save('model_with_generators_v11.h5')"
   ]
  },
  {
   "cell_type": "code",
   "execution_count": 14,
   "metadata": {
    "scrolled": false
   },
   "outputs": [
    {
     "name": "stdout",
     "output_type": "stream",
     "text": [
      "dict_keys(['loss', 'val_loss'])\n"
     ]
    },
    {
     "data": {
      "image/png": "[encoded data removed]",
      "text/plain": [
       "<Figure size 432x288 with 1 Axes>"
      ]
     },
     "metadata": {
      "needs_background": "light"
     },
     "output_type": "display_data"
    }
   ],
   "source": [
    "### print the keys contained in the history object\n",
    "print(history_object.history.keys())\n",
    "\n",
    "### plot the training and validation loss for each epoch\n",
    "import matplotlib.pyplot as plt\n",
    "plt.plot(history_object.history['loss'])\n",
    "plt.plot(history_object.history['val_loss'])\n",
    "plt.title('model mean squared error loss')\n",
    "plt.ylabel('mean squared error loss')\n",
    "plt.xlabel('epoch')\n",
    "plt.legend(['training set', 'validation set'], loc='upper right')\n",
    "plt.show()"
   ]
  },
  {
   "cell_type": "code",
   "execution_count": null,
   "metadata": {},
   "outputs": [],
   "source": [
    "from keras.applications import InceptionV3\n",
    "\n",
    "model2 =InceptionV3(\n",
    "    include_top=False,\n",
    "    weights=\"imagenet\",\n",
    "    input_tensor=None,\n",
    "    input_shape=None,    \n",
    ")"
   ]
  },
  {
   "cell_type": "code",
   "execution_count": null,
   "metadata": {},
   "outputs": [],
   "source": [
    "model2.summary()"
   ]
  },
  {
   "cell_type": "code",
   "execution_count": null,
   "metadata": {},
   "outputs": [],
   "source": []
  }
 ],
 "metadata": {
  "kernelspec": {
   "display_name": "Python 3",
   "language": "python",
   "name": "python3"
  }
 },
 "nbformat": 4,
 "nbformat_minor": 4
}
